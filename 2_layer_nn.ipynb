{
 "cells": [
  {
   "attachments": {},
   "cell_type": "markdown",
   "id": "887e8125-7a8f-4302-a639-f6d653492d09",
   "metadata": {},
   "source": [
    "# MNIST Classification with 2-Layer NNs\n",
    "### UCR EE/CS 228 Introduction to Deep Learning, Instructor: Yinglun Zhu (yinglunz.com)\n",
    "\n",
    "Part of the code is borrowed from the PyTorch Tutorial https://pytorch.org/tutorials/beginner/basics/quickstart_tutorial.html"
   ]
  },
  {
   "cell_type": "code",
   "execution_count": 1,
   "id": "e2034dbe-612b-42b3-ab46-0f4222fc8d93",
   "metadata": {},
   "outputs": [],
   "source": [
    "import matplotlib.pyplot as plt\n",
    "import numpy as np\n",
    "import torch\n",
    "from torch import nn\n",
    "from torch.utils.data import DataLoader\n",
    "from torchvision import datasets\n",
    "from torchvision.transforms import ToTensor"
   ]
  },
  {
   "cell_type": "code",
   "execution_count": 3,
   "id": "0320793c",
   "metadata": {},
   "outputs": [],
   "source": [
    "# Download training data from open datasets.\n",
    "train_data = datasets.MNIST(\n",
    "    root=\"data\",\n",
    "    train=True,\n",
    "    download=True,\n",
    "    transform=ToTensor(),\n",
    ")\n",
    "\n",
    "# Download test data from open datasets.\n",
    "test_data = datasets.MNIST(\n",
    "    root=\"data\",\n",
    "    train=False,\n",
    "    download=True,\n",
    "    transform=ToTensor(),\n",
    ")"
   ]
  },
  {
   "cell_type": "code",
   "execution_count": 5,
   "id": "efed53ae-c202-444e-a8aa-ca956e39a863",
   "metadata": {},
   "outputs": [
    {
     "name": "stdout",
     "output_type": "stream",
     "text": [
      "Shape of X [N, C, H, W]: torch.Size([64, 1, 28, 28])\n",
      "Shape of y: torch.Size([64]) torch.int64\n"
     ]
    }
   ],
   "source": [
    "batch_size = 64\n",
    "\n",
    "# Create data loaders.\n",
    "train_dataloader = DataLoader(train_data, batch_size=batch_size)\n",
    "test_dataloader = DataLoader(test_data, batch_size=batch_size)\n",
    "\n",
    "for X, y in test_dataloader:\n",
    "    print(f\"Shape of X [N, C, H, W]: {X.shape}\")\n",
    "    print(f\"Shape of y: {y.shape} {y.dtype}\")\n",
    "    break"
   ]
  },
  {
   "cell_type": "code",
   "execution_count": 7,
   "id": "03e2746a-a33a-4bc1-a9c4-d963a198cb87",
   "metadata": {},
   "outputs": [
    {
     "name": "stdout",
     "output_type": "stream",
     "text": [
      "Using cpu device.\n",
      "NeuralNetwork(\n",
      "  (flatten): Flatten(start_dim=1, end_dim=-1)\n",
      "  (linear_relu_stack): Sequential(\n",
      "    (0): Linear(in_features=784, out_features=512, bias=True)\n",
      "    (1): ReLU()\n",
      "    (2): Linear(in_features=512, out_features=10, bias=True)\n",
      "  )\n",
      ")\n"
     ]
    }
   ],
   "source": [
    "# Get cpu, gpu or mps device for training.\n",
    "device = (\n",
    "    \"cuda\"\n",
    "    if torch.cuda.is_available()\n",
    "    else \"cpu\"\n",
    ")\n",
    "print(f\"Using {device} device.\")\n",
    "\n",
    "# Define model\n",
    "class NeuralNetwork(nn.Module):\n",
    "    def __init__(self):\n",
    "        super().__init__()\n",
    "        self.flatten = nn.Flatten()\n",
    "        self.linear_relu_stack = nn.Sequential(\n",
    "            nn.Linear(28*28, 512),\n",
    "            nn.ReLU(),\n",
    "            nn.Linear(512, 10)\n",
    "        )\n",
    "\n",
    "    def forward(self, x):\n",
    "        x = self.flatten(x)\n",
    "        logits = self.linear_relu_stack(x)\n",
    "        return logits\n",
    "\n",
    "model = NeuralNetwork().to(device)\n",
    "print(model)"
   ]
  },
  {
   "cell_type": "code",
   "execution_count": 11,
   "id": "1654b01d-4d84-49a1-aff5-9aaf4fb095b2",
   "metadata": {},
   "outputs": [
    {
     "name": "stdout",
     "output_type": "stream",
     "text": [
      "Shape of X [N, C, H, W]: torch.Size([64, 1, 28, 28])\n"
     ]
    },
    {
     "data": {
      "image/png": "[encoded data removed]",
      "text/plain": [
       "<Figure size 640x480 with 1 Axes>"
      ]
     },
     "metadata": {},
     "output_type": "display_data"
    },
    {
     "name": "stdout",
     "output_type": "stream",
     "text": [
      "Label of the image is 7.\n"
     ]
    }
   ],
   "source": [
    "# Example data points\n",
    "for X, y in test_dataloader:\n",
    "    print(f\"Shape of X [N, C, H, W]: {X.shape}\")\n",
    "    idx = 0\n",
    "    image, label = X[idx], y[idx]\n",
    "    # If the image is a grayscale image, squeeze the channel dimension\n",
    "    if image.shape[0] == 1:\n",
    "        image = image.squeeze(0)  # remove the channel dimension [1, H, W] -> [H, W]\n",
    "\n",
    "    # If the image is a tensor, convert it to a NumPy array\n",
    "    image = image.cpu().numpy()\n",
    "\n",
    "    # Display the image using matplotlib\n",
    "    plt.imshow(image, cmap='gray')  # If it's a grayscale image, you can use cmap='gray'\n",
    "    plt.title(\"First Image in X\")\n",
    "    plt.axis('off')  # Hide the axes\n",
    "    plt.show()\n",
    "    \n",
    "    print(f\"Label of the image is {label}.\")  \n",
    "    break"
   ]
  },
  {
   "cell_type": "code",
   "execution_count": 13,
   "id": "cadc0bb8-fda1-4efd-8cd9-d2287dbe1f7e",
   "metadata": {},
   "outputs": [
    {
     "name": "stdout",
     "output_type": "stream",
     "text": [
      "Shape of X [N, C, H, W]: torch.Size([64, 1, 28, 28])\n",
      "Shape of nn.Flatten(X) [N, C, H, W]: torch.Size([64, 784])\n",
      "Shape of output logits: torch.Size([64, 10])\n",
      "Example output logits: tensor([-0.1065,  0.0253, -0.1043,  0.0703, -0.0083,  0.0638,  0.0233, -0.0308,\n",
      "        -0.0367, -0.0257], grad_fn=<SelectBackward0>)\n"
     ]
    }
   ],
   "source": [
    "# View size of inputs/outputs\n",
    "for X, y in test_dataloader:\n",
    "    print(f\"Shape of X [N, C, H, W]: {X.shape}\")\n",
    "    flatten = nn.Flatten()\n",
    "    print(f\"Shape of nn.Flatten(X) [N, C, H, W]: {(flatten(X).shape)}\")\n",
    "    print(f\"Shape of output logits: {model(X).shape}\")\n",
    "    print(f\"Example output logits: {model(X)[0]}\")\n",
    "    break"
   ]
  },
  {
   "cell_type": "code",
   "execution_count": 15,
   "id": "b478db24-0046-478b-b9a7-b239d9e27e26",
   "metadata": {},
   "outputs": [],
   "source": [
    "# Specify loss function and optimizer\n",
    "loss_fn = nn.CrossEntropyLoss()\n",
    "optimizer = torch.optim.SGD(model.parameters(), lr=1e-3)"
   ]
  },
  {
   "cell_type": "code",
   "execution_count": 21,
   "id": "6fbb4328-70fe-4855-b2a7-6dfa8e788468",
   "metadata": {},
   "outputs": [],
   "source": [
    "# Training function\n",
    "def train(dataloader, model, loss_fn, optimizer):\n",
    "    size = len(dataloader.dataset)\n",
    "    model.train()\n",
    "    for batch, (X, y) in enumerate(dataloader):\n",
    "        X, y = X.to(device), y.to(device)\n",
    "\n",
    "        # Compute prediction error\n",
    "        pred = model(X)\n",
    "        loss = loss_fn(pred, y)\n",
    "\n",
    "        # Backpropagation\n",
    "        loss.backward()\n",
    "        optimizer.step()\n",
    "        optimizer.zero_grad()\n",
    "\n",
    "        if batch % 200 == 0:\n",
    "            loss, current = loss.item(), (batch + 1) * len(X)\n",
    "            print(f\"loss: {loss:>7f}  [{current:>5d}/{size:>5d}]\")"
   ]
  },
  {
   "cell_type": "code",
   "execution_count": 23,
   "id": "69a81e34-dcc3-47a7-9c10-0cc3ec3c0a17",
   "metadata": {},
   "outputs": [],
   "source": [
    "# Test function\n",
    "def test(dataloader, model, loss_fn):\n",
    "    size = len(dataloader.dataset)\n",
    "    num_batches = len(dataloader)\n",
    "    model.eval()\n",
    "    test_loss, correct = 0, 0\n",
    "    with torch.no_grad():\n",
    "        for X, y in dataloader:\n",
    "            X, y = X.to(device), y.to(device)\n",
    "            pred = model(X)\n",
    "            test_loss += loss_fn(pred, y).item()\n",
    "            correct += (pred.argmax(1) == y).type(torch.float).sum().item()\n",
    "    test_loss /= num_batches\n",
    "    correct /= size\n",
    "    print(f\"Test Error: \\n Accuracy: {(100*correct):>0.1f}%, Avg loss: {test_loss:>8f} \\n\")"
   ]
  },
  {
   "cell_type": "code",
   "execution_count": 27,
   "id": "dae26f37-6c57-4dad-82c7-6869c2141349",
   "metadata": {},
   "outputs": [
    {
     "name": "stdout",
     "output_type": "stream",
     "text": [
      "Test Error: \n",
      " Accuracy: 6.0%, Avg loss: 2.313825 \n",
      "\n"
     ]
    }
   ],
   "source": [
    "# Test randomly initialized NN\n",
    "torch.manual_seed(40)\n",
    "model = NeuralNetwork().to(device)\n",
    "test(test_dataloader, model, loss_fn)"
   ]
  },
  {
   "cell_type": "code",
   "execution_count": 31,
   "id": "1b0937cf-abd2-4b10-b135-98be3422b32d",
   "metadata": {},
   "outputs": [
    {
     "name": "stdout",
     "output_type": "stream",
     "text": [
      "Epoch 1\n",
      "-------------------------------\n",
      "loss: 2.321668  [   64/60000]\n",
      "loss: 2.278293  [12864/60000]\n",
      "loss: 2.213543  [25664/60000]\n",
      "loss: 2.169127  [38464/60000]\n",
      "loss: 2.097264  [51264/60000]\n",
      "Test Error: \n",
      " Accuracy: 67.0%, Avg loss: 2.078303 \n",
      "\n",
      "Epoch 2\n",
      "-------------------------------\n",
      "loss: 2.088561  [   64/60000]\n",
      "loss: 2.073174  [12864/60000]\n",
      "loss: 1.963305  [25664/60000]\n",
      "loss: 1.886706  [38464/60000]\n",
      "loss: 1.808463  [51264/60000]\n",
      "Test Error: \n",
      " Accuracy: 74.5%, Avg loss: 1.780720 \n",
      "\n",
      "Epoch 3\n",
      "-------------------------------\n",
      "loss: 1.798216  [   64/60000]\n",
      "loss: 1.789863  [12864/60000]\n",
      "loss: 1.636804  [25664/60000]\n",
      "loss: 1.545236  [38464/60000]\n",
      "loss: 1.483163  [51264/60000]\n",
      "Test Error: \n",
      " Accuracy: 78.1%, Avg loss: 1.444054 \n",
      "\n",
      "Epoch 4\n",
      "-------------------------------\n",
      "loss: 1.475984  [   64/60000]\n",
      "loss: 1.466177  [12864/60000]\n",
      "loss: 1.304492  [25664/60000]\n",
      "loss: 1.224155  [38464/60000]\n",
      "loss: 1.206294  [51264/60000]\n",
      "Test Error: \n",
      " Accuracy: 81.2%, Avg loss: 1.158204 \n",
      "\n",
      "Epoch 5\n",
      "-------------------------------\n",
      "loss: 1.206697  [   64/60000]\n",
      "loss: 1.188549  [12864/60000]\n",
      "loss: 1.047170  [25664/60000]\n",
      "loss: 0.984218  [38464/60000]\n",
      "loss: 1.010433  [51264/60000]\n",
      "Test Error: \n",
      " Accuracy: 83.0%, Avg loss: 0.955719 \n",
      "\n",
      "Epoch 6\n",
      "-------------------------------\n",
      "loss: 1.014610  [   64/60000]\n",
      "loss: 0.986184  [12864/60000]\n",
      "loss: 0.871553  [25664/60000]\n",
      "loss: 0.820004  [38464/60000]\n",
      "loss: 0.877894  [51264/60000]\n",
      "Test Error: \n",
      " Accuracy: 84.2%, Avg loss: 0.818405 \n",
      "\n",
      "Epoch 7\n",
      "-------------------------------\n",
      "loss: 0.881047  [   64/60000]\n",
      "loss: 0.843901  [12864/60000]\n",
      "loss: 0.751218  [25664/60000]\n",
      "loss: 0.706855  [38464/60000]\n",
      "loss: 0.785568  [51264/60000]\n",
      "Test Error: \n",
      " Accuracy: 85.3%, Avg loss: 0.722991 \n",
      "\n",
      "Epoch 8\n",
      "-------------------------------\n",
      "loss: 0.785595  [   64/60000]\n",
      "loss: 0.741757  [12864/60000]\n",
      "loss: 0.664926  [25664/60000]\n",
      "loss: 0.625991  [38464/60000]\n",
      "loss: 0.717888  [51264/60000]\n",
      "Test Error: \n",
      " Accuracy: 86.2%, Avg loss: 0.653924 \n",
      "\n",
      "Epoch 9\n",
      "-------------------------------\n",
      "loss: 0.714529  [   64/60000]\n",
      "loss: 0.665881  [12864/60000]\n",
      "loss: 0.600072  [25664/60000]\n",
      "loss: 0.565740  [38464/60000]\n",
      "loss: 0.666073  [51264/60000]\n",
      "Test Error: \n",
      " Accuracy: 86.9%, Avg loss: 0.601958 \n",
      "\n",
      "Epoch 10\n",
      "-------------------------------\n",
      "loss: 0.659590  [   64/60000]\n",
      "loss: 0.607626  [12864/60000]\n",
      "loss: 0.549502  [25664/60000]\n",
      "loss: 0.519310  [38464/60000]\n",
      "loss: 0.625057  [51264/60000]\n",
      "Test Error: \n",
      " Accuracy: 87.3%, Avg loss: 0.561576 \n",
      "\n",
      "Done!\n"
     ]
    }
   ],
   "source": [
    "# Test trained NN\n",
    "torch.manual_seed(42)\n",
    "model = NeuralNetwork().to(device)\n",
    "# Specify loss function and optimizer\n",
    "loss_fn = nn.CrossEntropyLoss()\n",
    "optimizer = torch.optim.SGD(model.parameters(), lr=1e-3)\n",
    "epochs = 10\n",
    "for t in range(epochs):\n",
    "    print(f\"Epoch {t+1}\\n-------------------------------\")\n",
    "    train(train_dataloader, model, loss_fn, optimizer)\n",
    "    test(test_dataloader, model, loss_fn)\n",
    "print(\"Done!\")"
   ]
  },
  {
   "cell_type": "code",
   "execution_count": null,
   "id": "5f8d1c54-d83a-4cdb-b08b-70ee6a4eeb14",
   "metadata": {},
   "outputs": [],
   "source": []
  }
 ],
 "metadata": {
  "kernelspec": {
   "display_name": "Python 3 (ipykernel)",
   "language": "python",
   "name": "python3"
  },
  "language_info": {
   "codemirror_mode": {
    "name": "ipython",
    "version": 3
   },
   "file_extension": ".py",
   "mimetype": "text/x-python",
   "name": "python",
   "nbconvert_exporter": "python",
   "pygments_lexer": "ipython3",
   "version": "3.11.10"
  }
 },
 "nbformat": 4,
 "nbformat_minor": 5
}
